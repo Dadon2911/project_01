{
  "nbformat": 4,
  "nbformat_minor": 0,
  "metadata": {
    "colab": {
      "provenance": [],
      "authorship_tag": "ABX9TyPQDNCS4y+VR12fy9tX1kgv",
      "include_colab_link": true
    },
    "kernelspec": {
      "name": "python3",
      "display_name": "Python 3"
    },
    "language_info": {
      "name": "python"
    }
  },
  "cells": [
    {
      "cell_type": "markdown",
      "metadata": {
        "id": "view-in-github",
        "colab_type": "text"
      },
      "source": [
        "<a href=\"https://colab.research.google.com/github/Dadon2911/project_01/blob/main/Homework/Level_3.ipynb\" target=\"_parent\"><img src=\"https://colab.research.google.com/assets/colab-badge.svg\" alt=\"Open In Colab\"/></a>"
      ]
    },
    {
      "cell_type": "code",
      "execution_count": null,
      "metadata": {
        "id": "_dFB-W4-SlMN"
      },
      "outputs": [],
      "source": [
        "# Задача 3.1.\n",
        "# Создайте класс матрицы (или таблицы).\n",
        "# Требования к классу:\n",
        "#   - каждая колонка является числом от 1 до n (n любое число, которые вы поставите!)\n",
        "#   - в каждой ячейке содержится либо число, либо None\n",
        "#   - доступы следующие методы матрицы:\n",
        "#       * принимать новые значения, \n",
        "#       * заменять существующие значения, \n",
        "#       * выводить число строк и колонок.\n",
        "# Пример матрицы 10 на 10 из единиц:\n",
        "# [[1, 1, 1, 1, 1, 1, 1, 1, 1, 1],\n",
        "#  [1, 1, 1, 1, 1, 1, 1, 1, 1, 1],\n",
        "#  [1, 1, 1, 1, 1, 1, 1, 1, 1, 1],\n",
        "#  [1, 1, 1, 1, 1, 1, 1, 1, 1, 1],\n",
        "#  [1, 1, 1, 1, 1, 1, 1, 1, 1, 1],\n",
        "#  [1, 1, 1, 1, 1, 1, 1, 1, 1, 1],\n",
        "#  [1, 1, 1, 1, 1, 1, 1, 1, 1, 1],\n",
        "#  [1, 1, 1, 1, 1, 1, 1, 1, 1, 1],\n",
        "#  [1, 1, 1, 1, 1, 1, 1, 1, 1, 1],\n",
        "#  [1, 1, 1, 1, 1, 1, 1, 1, 1, 1]]\n",
        "# Примечание! \n",
        "#   - новый класс не запрещено строить на базе существующих типов данных: списков, словарей и тд.\n",
        "#   - отображать в таблице/матрице название колонки не обязательно!\n",
        "#   - использовать готовые классы numpy.array() и pandas.DataFrame() запрещено!\n",
        "#   - проявите фантазию :)\n",
        "\n",
        "\n",
        "# Решение\n",
        "\n",
        "class Matrix:\n",
        "    def __init__(self, rows, columns):\n",
        "        self.rows = rows\n",
        "        self.columns = columns\n",
        "        self.matrix = [[None] * columns for _ in range(rows)] \n",
        "\n",
        "    def set_value(self, row, column, value):\n",
        "        if 1 <= row <= self.rows and 1 <= column <= self.columns:  \n",
        "            self.matrix[row - 1][column - 1] = value  \n",
        "        else:\n",
        "            print(\"Некорректный номер строки или столбца.\")\n",
        "\n",
        "    def replace_value(self, row, column, value):\n",
        "        if 1 <= row <= self.rows and 1 <= column <= self.columns:  \n",
        "            if self.matrix[row - 1][column - 1] is not None: \n",
        "                self.matrix[row - 1][column - 1] = value  \n",
        "            else:\n",
        "                print(\"В указанной ячейке нет значения.\")\n",
        "        else:\n",
        "            print(\"Некорректный номер строки или столбца.\")\n",
        "\n",
        "    def get_num_rows(self):\n",
        "        return self.rows  \n",
        "\n",
        "    def get_num_columns(self):\n",
        "        return self.columns  \n",
        "\n",
        "    def display(self):\n",
        "        for row in self.matrix:  \n",
        "            print(row)  \n",
        "\n",
        "\n",
        "# Создаем матрицу\n",
        "matrix = Matrix(10, 10)\n",
        "\n",
        "# Задаем значения в ячейках матрицы\n",
        "for row in range(1, 11):\n",
        "    for column in range(1, 11):\n",
        "        matrix.set_value(row, column, 5)\n",
        "\n",
        "# Заменяем значение в ячейке\n",
        "matrix.replace_value(2, 3, 100)\n",
        "\n",
        "# Выводим количество строк и столбцов\n",
        "print(\"Количество строк:\", matrix.get_num_rows())\n",
        "print(\"Количество столбцов:\", matrix.get_num_columns())\n",
        "\n",
        "# Выводим матрицу\n",
        "matrix.display()"
      ]
    }
  ]
}