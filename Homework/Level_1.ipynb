{
  "nbformat": 4,
  "nbformat_minor": 0,
  "metadata": {
    "colab": {
      "provenance": [],
      "authorship_tag": "ABX9TyNnWxuR8LAAzNs80CS02obS",
      "include_colab_link": true
    },
    "kernelspec": {
      "name": "python3",
      "display_name": "Python 3"
    },
    "language_info": {
      "name": "python"
    }
  },
  "cells": [
    {
      "cell_type": "markdown",
      "metadata": {
        "id": "view-in-github",
        "colab_type": "text"
      },
      "source": [
        "<a href=\"https://colab.research.google.com/github/Dadon2911/project_01/blob/main/Homework/Level_1.ipynb\" target=\"_parent\"><img src=\"https://colab.research.google.com/assets/colab-badge.svg\" alt=\"Open In Colab\"/></a>"
      ]
    },
    {
      "cell_type": "code",
      "execution_count": null,
      "metadata": {
        "id": "0uqRX9GNPqB-"
      },
      "outputs": [],
      "source": [
        "# Задача 1\n",
        "# Задача 1.1.\n",
        "\n",
        "# Есть строка с перечислением песен\n",
        "\n",
        "my_favorite_sogns = 'Waste a Moment, Staying\\' Alive, A Sorta Fairytale, Start Me Up, New Salvation'\n",
        "\n",
        "\n",
        "# Выведите на консоль с помощью индексации строки, последовательно: первый трек, последний, второй, второй с конца\n",
        "# Нельзя переопределять my_favorite_songs и запятая не должна выводиться."
      ]
    },
    {
      "cell_type": "code",
      "source": [
        "# Решение Задача 1\n",
        "# Задача 1.1\n",
        "\n",
        "my_favorite_sogns = 'Waste a Moment, Staying\\' Alive, A Sorta Fairytale, Start Me Up, New Salvation'\n",
        "\n",
        "print(my_favorite_sogns[0:14], my_favorite_sogns[64:77], my_favorite_sogns[16:30], my_favorite_sogns[51:62])"
      ],
      "metadata": {
        "id": "rHl4-1yjtqne"
      },
      "execution_count": null,
      "outputs": []
    },
    {
      "cell_type": "code",
      "source": [
        "# Задача 2\n",
        "# Задача 1.2.\n",
        "\n",
        "# Пункт A. \n",
        "# Приведем плейлист песен в виде списка списков\n",
        "# Список my_favorite_songs содержит список названий и длительности каждого трека\n",
        "# Выведите общее время звучания трех случайных песен в формате\n",
        "# Три песни звучат ХХХ минут\n",
        "my_favorite_songs = [\n",
        "    ['Waste a Moment', 3.03],\n",
        "    ['New Salvation', 4.02],\n",
        "    ['Staying\\' Alive', 3.40],\n",
        "    ['Out of Touch', 3.03],\n",
        "    ['A Sorta Fairytale', 5.28],\n",
        "    ['Easy', 4.15],\n",
        "    ['Beautiful Day', 4.04],\n",
        "    ['Nowhere to Run', 2.58],\n",
        "    ['In This World', 4.02],\n",
        "]\n",
        "# Пункт B. \n",
        "# Есть словарь песен \n",
        "# Распечатайте общее время звучания трех случайных песен\n",
        "# Вывод: Три песни звучат ХХХ минут."
      ],
      "metadata": {
        "id": "HEaw1lAGP0R7"
      },
      "execution_count": null,
      "outputs": []
    },
    {
      "cell_type": "code",
      "source": [
        "# Решение Задача 2\n",
        "# Задача 1.2.\n",
        "\n",
        "# Пункт A. (вариант 1)\n",
        "\n",
        "import random\n",
        "\n",
        "my_favorite_songs = [\n",
        "    ['Waste a Moment', 3.03],\n",
        "    ['New Salvation', 4.02],\n",
        "    ['Staying\\' Alive', 3.40],\n",
        "    ['Out of Touch', 3.03],\n",
        "    ['A Sorta Fairytale', 5.28],\n",
        "    ['Easy', 4.15],\n",
        "    ['Beautiful Day', 4.04],\n",
        "    ['Nowhere to Run', 2.58],\n",
        "    ['In This World', 4.02],\n",
        "]\n",
        "\n",
        "song1 = random.choice(my_favorite_songs)\n",
        "song2 = random.choice(my_favorite_songs)\n",
        "song3 = random.choice(my_favorite_songs)\n",
        "\n",
        "songs = [song1[1], song2[1], song3[1]]\n",
        "x=sum(songs)\n",
        "print('Три песни звучат', x, 'минут')"
      ],
      "metadata": {
        "id": "MvaS-Dy4P4Bq"
      },
      "execution_count": null,
      "outputs": []
    },
    {
      "cell_type": "code",
      "source": [
        "# Решение Задача 2\n",
        "# Задача 1.2.\n",
        "\n",
        "# Пункт A. (вариант 2)\n",
        "\n",
        "my_favorite_songs = [\n",
        "    ['Waste a Moment', 3.03],\n",
        "    ['New Salvation', 4.02],\n",
        "    ['Staying\\' Alive', 3.40],\n",
        "    ['Out of Touch', 3.03],\n",
        "    ['A Sorta Fairytale', 5.28],\n",
        "    ['Easy', 4.15],\n",
        "    ['Beautiful Day', 4.04],\n",
        "    ['Nowhere to Run', 2.58],\n",
        "    ['In This World', 4.02],\n",
        "]\n",
        "\n",
        "total_songs = 0\n",
        "\n",
        "import random\n",
        "\n",
        "k = 3\n",
        "y = []\n",
        "total = 0\n",
        "\n",
        "while k !=0:\n",
        "  x = random.choice(my_favorite_songs)\n",
        "  k -= 1\n",
        "  y.append(x)\n",
        "\n",
        "songs_three=y[0][1]+y[1][1]+y[2][1]\n",
        "print('Три песни звучат', \"{:.2f}\".format(songs_three), 'минут')\n"
      ],
      "metadata": {
        "id": "qGWgS1aKREbn"
      },
      "execution_count": null,
      "outputs": []
    },
    {
      "cell_type": "code",
      "source": [
        "# Решение Задача 2\n",
        "# Задача 1.2.\n",
        "\n",
        "# Пункт B.\n",
        "\n",
        "from random import choices\n",
        "\n",
        "my_favorite_songs = {\n",
        "    'Waste a Moment': 3.03,\n",
        "    'New Salvation': 4.02,\n",
        "    'Staying\\' Alive': 3.40,\n",
        "    'Out of Touch': 3.03,\n",
        "    'A Sorta Fairytale': 5.28,\n",
        "    'Easy': 4.15,\n",
        "    'Beautiful Day': 4.04,\n",
        "    'Nowhere to Run': 2.58,\n",
        "    'In This World': 4.02\n",
        "}\n",
        "\n",
        "\n",
        "songs_time = list(my_favorite_songs.values())\n",
        "# print(songs_time)\n",
        "\n",
        "three_songs = choices(songs_time, k=3)\n",
        "# print(three_songs)\n",
        "\n",
        "print('Три песни звучат', \"{:.2f}\".format(sum(three_songs)), 'минут')\n",
        "\n"
      ],
      "metadata": {
        "id": "JpFCjmcUl5XY"
      },
      "execution_count": null,
      "outputs": []
    }
  ]
}