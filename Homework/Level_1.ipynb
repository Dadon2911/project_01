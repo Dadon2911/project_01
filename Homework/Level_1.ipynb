{
  "nbformat": 4,
  "nbformat_minor": 0,
  "metadata": {
    "colab": {
      "provenance": [],
      "authorship_tag": "ABX9TyMxh4/nL++/h2obqE9f5zyc",
      "include_colab_link": true
    },
    "kernelspec": {
      "name": "python3",
      "display_name": "Python 3"
    },
    "language_info": {
      "name": "python"
    }
  },
  "cells": [
    {
      "cell_type": "markdown",
      "metadata": {
        "id": "view-in-github",
        "colab_type": "text"
      },
      "source": [
        "<a href=\"https://colab.research.google.com/github/Dadon2911/project_01/blob/main/Homework/Level_1.ipynb\" target=\"_parent\"><img src=\"https://colab.research.google.com/assets/colab-badge.svg\" alt=\"Open In Colab\"/></a>"
      ]
    },
    {
      "cell_type": "code",
      "execution_count": null,
      "metadata": {
        "id": "0uqRX9GNPqB-"
      },
      "outputs": [],
      "source": [
        "# Задача 1\n",
        "# Задача 1.1.\n",
        "\n",
        "# Есть строка с перечислением песен\n",
        "\n",
        "my_favorite_sogns = 'Waste a Moment, Staying\\' Alive, A Sorta Fairytale, Start Me Up, New Salvation'\n",
        "\n",
        "\n",
        "# Выведите на консоль с помощью индексации строки, последовательно: первый трек, последний, второй, второй с конца\n",
        "# Нельзя переопределять my_favorite_songs и запятая не должна выводиться."
      ]
    },
    {
      "cell_type": "code",
      "source": [
        "# Решение Задача 1\n",
        "# Задача 1.1\n",
        "\n",
        "my_favorite_sogns = 'Waste a Moment, Staying\\' Alive, A Sorta Fairytale, Start Me Up, New Salvation'\n",
        "\n",
        "print(my_favorite_sogns[0:14], my_favorite_sogns[64:77], my_favorite_sogns[16:30], my_favorite_sogns[51:62])"
      ],
      "metadata": {
        "id": "rHl4-1yjtqne"
      },
      "execution_count": null,
      "outputs": []
    },
    {
      "cell_type": "code",
      "source": [
        "# Задача 2\n",
        "# Задача 1.2.\n",
        "\n",
        "# Пункт A. \n",
        "# Приведем плейлист песен в виде списка списков\n",
        "# Список my_favorite_songs содержит список названий и длительности каждого трека\n",
        "# Выведите общее время звучания трех случайных песен в формате\n",
        "# Три песни звучат ХХХ минут\n",
        "my_favorite_songs = [\n",
        "    ['Waste a Moment', 3.03],\n",
        "    ['New Salvation', 4.02],\n",
        "    ['Staying\\' Alive', 3.40],\n",
        "    ['Out of Touch', 3.03],\n",
        "    ['A Sorta Fairytale', 5.28],\n",
        "    ['Easy', 4.15],\n",
        "    ['Beautiful Day', 4.04],\n",
        "    ['Nowhere to Run', 2.58],\n",
        "    ['In This World', 4.02],\n",
        "]\n",
        "# Пункт B. \n",
        "# Есть словарь песен \n",
        "# Распечатайте общее время звучания трех случайных песен\n",
        "# Вывод: Три песни звучат ХХХ минут."
      ],
      "metadata": {
        "id": "HEaw1lAGP0R7"
      },
      "execution_count": null,
      "outputs": []
    },
    {
      "cell_type": "code",
      "source": [
        "# Решение Задача 2\n",
        "# Задача 1.2.\n",
        "\n",
        "# Пункт A. (вариант 1)\n",
        "\n",
        "import random\n",
        "\n",
        "my_favorite_songs = [\n",
        "    ['Waste a Moment', 3.03],\n",
        "    ['New Salvation', 4.02],\n",
        "    ['Staying\\' Alive', 3.40],\n",
        "    ['Out of Touch', 3.03],\n",
        "    ['A Sorta Fairytale', 5.28],\n",
        "    ['Easy', 4.15],\n",
        "    ['Beautiful Day', 4.04],\n",
        "    ['Nowhere to Run', 2.58],\n",
        "    ['In This World', 4.02],\n",
        "]\n",
        "\n",
        "song1 = random.choice(my_favorite_songs)\n",
        "song2 = random.choice(my_favorite_songs)\n",
        "song3 = random.choice(my_favorite_songs)\n",
        "\n",
        "songs = [song1[1], song2[1], song3[1]]\n",
        "x = sum(songs)\n",
        "print('Три песни звучат', x, 'минут')"
      ],
      "metadata": {
        "id": "MvaS-Dy4P4Bq"
      },
      "execution_count": null,
      "outputs": []
    },
    {
      "cell_type": "code",
      "source": [
        "# Решение Задача 2\n",
        "# Задача 1.2.\n",
        "\n",
        "# Пункт A. (вариант 2)\n",
        "\n",
        "my_favorite_songs = [\n",
        "    ['Waste a Moment', 3.03],\n",
        "    ['New Salvation', 4.02],\n",
        "    ['Staying\\' Alive', 3.40],\n",
        "    ['Out of Touch', 3.03],\n",
        "    ['A Sorta Fairytale', 5.28],\n",
        "    ['Easy', 4.15],\n",
        "    ['Beautiful Day', 4.04],\n",
        "    ['Nowhere to Run', 2.58],\n",
        "    ['In This World', 4.02],\n",
        "]\n",
        "\n",
        "total_songs = 0\n",
        "\n",
        "import random\n",
        "\n",
        "k = 3\n",
        "y = []\n",
        "total = 0\n",
        "\n",
        "while k !=0:\n",
        "  x = random.choice(my_favorite_songs)\n",
        "  k -= 1\n",
        "  y.append(x)\n",
        "\n",
        "songs_three = y[0][1] + y[1][1] + y[2][1]\n",
        "print('Три песни звучат', \"{:.2f}\".format(songs_three), 'минут')\n"
      ],
      "metadata": {
        "id": "qGWgS1aKREbn"
      },
      "execution_count": null,
      "outputs": []
    },
    {
      "cell_type": "code",
      "source": [
        "# Решение Задача 2\n",
        "# Задача 1.2.\n",
        "\n",
        "# Пункт B.\n",
        "\n",
        "from random import choices\n",
        "\n",
        "my_favorite_songs = {\n",
        "    'Waste a Moment': 3.03,\n",
        "    'New Salvation': 4.02,\n",
        "    'Staying\\' Alive': 3.40,\n",
        "    'Out of Touch': 3.03,\n",
        "    'A Sorta Fairytale': 5.28,\n",
        "    'Easy': 4.15,\n",
        "    'Beautiful Day': 4.04,\n",
        "    'Nowhere to Run': 2.58,\n",
        "    'In This World': 4.02\n",
        "}\n",
        "\n",
        "\n",
        "songs_time = list(my_favorite_songs.values())\n",
        "# print(songs_time)\n",
        "\n",
        "three_songs = choices(songs_time, k=3)\n",
        "# print(three_songs)\n",
        "\n",
        "print('Три песни звучат', \"{:.2f}\".format(sum(three_songs)), 'минут')\n",
        "\n"
      ],
      "metadata": {
        "id": "JpFCjmcUl5XY"
      },
      "execution_count": null,
      "outputs": []
    },
    {
      "cell_type": "code",
      "source": [
        "# Задача 3\n",
        "# Задача 1.3.\n",
        "\n",
        "# Напишите скрипт, который принимает от пользователя номер месяца, \n",
        "# а возвращает количество дней в нем.\n",
        "# Результат проверки вывести на консоль\n",
        "# Допущение: в феврале 28 дней\n",
        "# Если номер месяца некорректен - сообщить об этом\n",
        "# Например,\n",
        "    # Введите номер месяца: 3\n",
        "    # Вы ввели март. 31 дней\n",
        "    # Введите номер месяца: 2\n",
        "    # Вы ввели февраль. 28 дней\n",
        "    # Введите номер месяца: 15\n",
        "    # Такого месяца нет!\n",
        "\n",
        "number_month = input('Введите номер месяца: ') \n",
        " \n",
        "if number_month.isdigit(): \n",
        "    number_month = int(number_month) \n",
        "    if number_month >= 1 and number_month <= 12: \n",
        "        months = ['январь', 'февраль', 'март', 'апрель', 'май', 'июнь', 'июль', 'август', 'сентябрь', 'октябрь', 'ноябрь', 'декабрь'] \n",
        "        month_name = months[number_month - 1] \n",
        "\n",
        "month = int(number_month)\n",
        "month31 = [1, 3, 5, 7, 8, 10, 12]\n",
        "month30 = [4, 6, 9, 11]\n",
        "month28 = [2]\n",
        "if month in month31:\n",
        "  print('Вы ввели', month_name, '31 день')\n",
        "elif month in month30:\n",
        "  print('Вы ввели', month_name, '30 дней')\n",
        "elif month in month28:\n",
        "  print('Вы ввели', month_name, '28 дней')\n",
        "else: \n",
        "  print('Такого месяца нет')\n"
      ],
      "metadata": {
        "id": "WPT62oLWVklR"
      },
      "execution_count": null,
      "outputs": []
    }
  ]
}