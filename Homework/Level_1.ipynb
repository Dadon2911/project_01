{
  "nbformat": 4,
  "nbformat_minor": 0,
  "metadata": {
    "colab": {
      "provenance": [],
      "authorship_tag": "ABX9TyO7UmN1P53hM3+Q47vgMoKt"
    },
    "kernelspec": {
      "name": "python3",
      "display_name": "Python 3"
    },
    "language_info": {
      "name": "python"
    }
  },
  "cells": [
    {
      "cell_type": "code",
      "execution_count": null,
      "metadata": {
        "id": "0uqRX9GNPqB-"
      },
      "outputs": [],
      "source": [
        "# Задача 1\n",
        "# Задача 1.1.\n",
        "\n",
        "# Есть строка с перечислением песен\n",
        "\n",
        "my_favorite_sogns = 'Waste a Moment, Staying\\' Alive, A Sorta Fairytale, Start Me Up, New Salvation'\n",
        "\n",
        "\n",
        "# Выведите на консоль с помощью индексации строки, последовательно: первый трек, последний, второй, второй с конца\n",
        "# Нельзя переопределять my_favorite_songs и запятая не должна выводиться."
      ]
    },
    {
      "cell_type": "code",
      "source": [
        "# Решение Задача 1\n",
        "# Задача 1.1\n",
        "\n",
        "my_favorite_sogns = 'Waste a Moment, Staying\\' Alive, A Sorta Fairytale, Start Me Up, New Salvation'\n",
        "\n",
        "print(my_favorite_sogns[0:14], my_favorite_sogns[64:77], my_favorite_sogns[16:30], my_favorite_sogns[51:62])"
      ],
      "metadata": {
        "id": "rHl4-1yjtqne"
      },
      "execution_count": null,
      "outputs": []
    },
    {
      "cell_type": "code",
      "source": [
        "# Задача 2\n",
        "# Задача 1.2.\n",
        "\n",
        "# Пункт A. \n",
        "# Приведем плейлист песен в виде списка списков\n",
        "# Список my_favorite_songs содержит список названий и длительности каждого трека\n",
        "# Выведите общее время звучания трех случайных песен в формате\n",
        "# Три песни звучат ХХХ минут\n",
        "my_favorite_songs = [\n",
        "    ['Waste a Moment', 3.03],\n",
        "    ['New Salvation', 4.02],\n",
        "    ['Staying\\' Alive', 3.40],\n",
        "    ['Out of Touch', 3.03],\n",
        "    ['A Sorta Fairytale', 5.28],\n",
        "    ['Easy', 4.15],\n",
        "    ['Beautiful Day', 4.04],\n",
        "    ['Nowhere to Run', 2.58],\n",
        "    ['In This World', 4.02],\n",
        "]\n",
        "# Пункт B. \n",
        "# Есть словарь песен \n",
        "# Распечатайте общее время звучания трех случайных песен\n",
        "# Вывод: Три песни звучат ХХХ минут."
      ],
      "metadata": {
        "id": "HEaw1lAGP0R7"
      },
      "execution_count": null,
      "outputs": []
    },
    {
      "cell_type": "code",
      "source": [
        "# Решение Задача 2\n",
        "# Задача 1.2.\n",
        "\n",
        "# Пункт A. (вариант 1)\n",
        "\n",
        "import random\n",
        "\n",
        "my_favorite_songs = [\n",
        "    ['Waste a Moment', 3.03],\n",
        "    ['New Salvation', 4.02],\n",
        "    ['Staying\\' Alive', 3.40],\n",
        "    ['Out of Touch', 3.03],\n",
        "    ['A Sorta Fairytale', 5.28],\n",
        "    ['Easy', 4.15],\n",
        "    ['Beautiful Day', 4.04],\n",
        "    ['Nowhere to Run', 2.58],\n",
        "    ['In This World', 4.02],\n",
        "]\n",
        "\n",
        "song1 = random.choice(my_favorite_songs)\n",
        "song2 = random.choice(my_favorite_songs)\n",
        "song3 = random.choice(my_favorite_songs)\n",
        "\n",
        "songs = [song1[1], song2[1], song3[1]]\n",
        "x = sum(songs)\n",
        "print('Три песни звучат', x, 'минут')"
      ],
      "metadata": {
        "id": "MvaS-Dy4P4Bq"
      },
      "execution_count": null,
      "outputs": []
    },
    {
      "cell_type": "code",
      "source": [
        "# Решение Задача 2\n",
        "# Задача 1.2.\n",
        "\n",
        "# Пункт A. (вариант 2)\n",
        "\n",
        "my_favorite_songs = [\n",
        "    ['Waste a Moment', 3.03],\n",
        "    ['New Salvation', 4.02],\n",
        "    ['Staying\\' Alive', 3.40],\n",
        "    ['Out of Touch', 3.03],\n",
        "    ['A Sorta Fairytale', 5.28],\n",
        "    ['Easy', 4.15],\n",
        "    ['Beautiful Day', 4.04],\n",
        "    ['Nowhere to Run', 2.58],\n",
        "    ['In This World', 4.02],\n",
        "]\n",
        "\n",
        "total_songs = 0\n",
        "\n",
        "import random\n",
        "\n",
        "k = 3\n",
        "y = []\n",
        "total = 0\n",
        "\n",
        "while k !=0:\n",
        "  x = random.choice(my_favorite_songs)\n",
        "  k -= 1\n",
        "  y.append(x)\n",
        "\n",
        "songs_three = y[0][1] + y[1][1] + y[2][1]\n",
        "print('Три песни звучат', \"{:.2f}\".format(songs_three), 'минут')\n"
      ],
      "metadata": {
        "id": "qGWgS1aKREbn"
      },
      "execution_count": null,
      "outputs": []
    },
    {
      "cell_type": "code",
      "source": [
        "# Решение Задача 2\n",
        "# Задача 1.2.\n",
        "\n",
        "# Пункт B.\n",
        "\n",
        "from random import choices\n",
        "\n",
        "my_favorite_songs = {\n",
        "    'Waste a Moment': 3.03,\n",
        "    'New Salvation': 4.02,\n",
        "    'Staying\\' Alive': 3.40,\n",
        "    'Out of Touch': 3.03,\n",
        "    'A Sorta Fairytale': 5.28,\n",
        "    'Easy': 4.15,\n",
        "    'Beautiful Day': 4.04,\n",
        "    'Nowhere to Run': 2.58,\n",
        "    'In This World': 4.02\n",
        "}\n",
        "\n",
        "\n",
        "songs_time = list(my_favorite_songs.values())\n",
        "# print(songs_time)\n",
        "\n",
        "three_songs = choices(songs_time, k=3)\n",
        "# print(three_songs)\n",
        "\n",
        "print('Три песни звучат', \"{:.2f}\".format(sum(three_songs)), 'минут')\n",
        "\n"
      ],
      "metadata": {
        "id": "JpFCjmcUl5XY"
      },
      "execution_count": null,
      "outputs": []
    },
    {
      "cell_type": "code",
      "source": [
        "# Задача 3\n",
        "# Задача 1.3.\n",
        "\n",
        "# Напишите скрипт, который принимает от пользователя номер месяца, \n",
        "# а возвращает количество дней в нем.\n",
        "# Результат проверки вывести на консоль\n",
        "# Допущение: в феврале 28 дней\n",
        "# Если номер месяца некорректен - сообщить об этом\n",
        "# Например,\n",
        "    # Введите номер месяца: 3\n",
        "    # Вы ввели март. 31 дней\n",
        "    # Введите номер месяца: 2\n",
        "    # Вы ввели февраль. 28 дней\n",
        "    # Введите номер месяца: 15\n",
        "    # Такого месяца нет!\n",
        "\n",
        "\n",
        "# Решение\n",
        "\n",
        "number_month = input('Введите номер месяца: ') \n",
        " \n",
        "if number_month.isdigit(): \n",
        "    number_month = int(number_month) \n",
        "    if number_month >= 1 and number_month <= 12: \n",
        "        months = ['январь', 'февраль', 'март', 'апрель', 'май', 'июнь', 'июль', 'август', 'сентябрь', 'октябрь', 'ноябрь', 'декабрь'] \n",
        "        month_name = months[number_month - 1] \n",
        "\n",
        "month = int(number_month)\n",
        "month31 = [1, 3, 5, 7, 8, 10, 12]\n",
        "month30 = [4, 6, 9, 11]\n",
        "month28 = [2]\n",
        "if month in month31:\n",
        "  print('Вы ввели', month_name, '31 день')\n",
        "elif month in month30:\n",
        "  print('Вы ввели', month_name, '30 дней')\n",
        "elif month in month28:\n",
        "  print('Вы ввели', month_name, '28 дней')\n",
        "else: \n",
        "  print('Такого месяца нет')\n"
      ],
      "metadata": {
        "id": "WPT62oLWVklR"
      },
      "execution_count": null,
      "outputs": []
    },
    {
      "cell_type": "code",
      "source": [
        "# Задача 4\n",
        "# Задача 1.4.\n",
        "\n",
        "# Есть словарь кодов товаров titles\n",
        "\n",
        "titles = {\n",
        "    'Кроссовки тип 3 (Adidas)': '100000110',\n",
        "    'Мячик тип 2 (Adidas)': '100000146',\n",
        "    'Кепка тип 1 (Adidas)': '100000149',\n",
        "    'Ремень тип 2 (Nike)': '100000194',\n",
        "    'Футболка тип 1 (Adidas)': '100000224',\n",
        "    'Шапка тип 5 (Puma)': '100000280',\n",
        "}\n",
        "# Товары находятся на складе и сохранены в виде словаря списков словарей,\n",
        "# которые отражают количество товаров в магазине по каждому коду.\n",
        "\n",
        "\n",
        "store = {\n",
        "    '100000110': [{'quantity': 31, 'price': 1637}],\n",
        "    '100000146': [ {'quantity': 4, 'price': 45}, {'quantity': 10, 'price': 48}],\n",
        "    '100000149': [ {'quantity': 28, 'price': 279}, {'quantity': 32, 'price': 291}],\n",
        "    '100000194': [{'quantity': 8, 'price': 220}, {'quantity': 1, 'price': 170}],\n",
        "    '100000224': [{'quantity': 61, 'price': 438}, {'quantity': 23, 'price': 302},  {'quantity': 50, 'price': 412}],\n",
        "    '100000280': [{'quantity': 26, 'price': 175}, ]\n",
        "}\n",
        "\n",
        "# Рассчитайте на какую сумму лежит каждого товара на складе.\n",
        "#\n",
        "# Вывести суммарную стоимость каждого товара в магазине в формате:\n",
        "# \"<товар> - <кол-во> шт, стоимость <общая стоимость> руб\"\n",
        "# Пример: \"Кроссовки тип 3 (Adidas) - 31 шт, стоимость 50747 руб\"\n",
        "\n",
        "\n",
        "# Решение\n",
        "\n",
        "for name_titles in titles:\n",
        "    code_titles = titles[name_titles]\n",
        "    total_quantity = 0\n",
        "    total_price = 0\n",
        "    for quantity_price in store[code_titles]:\n",
        "        total_price = total_price + quantity_price['quantity'] * quantity_price['price']\n",
        "        total_quantity += quantity_price['quantity']\n",
        "    print(name_titles, '-', total_quantity, 'шт, стоимость', total_price, 'руб')"
      ],
      "metadata": {
        "id": "ftZZNIP4iRFi"
      },
      "execution_count": null,
      "outputs": []
    }
  ]
}