{
  "nbformat": 4,
  "nbformat_minor": 0,
  "metadata": {
    "colab": {
      "provenance": [],
      "authorship_tag": "ABX9TyNB6AwgjguV1GLVTRsaJHOT",
      "include_colab_link": true
    },
    "kernelspec": {
      "name": "python3",
      "display_name": "Python 3"
    },
    "language_info": {
      "name": "python"
    }
  },
  "cells": [
    {
      "cell_type": "markdown",
      "metadata": {
        "id": "view-in-github",
        "colab_type": "text"
      },
      "source": [
        "<a href=\"https://colab.research.google.com/github/Dadon2911/project_01/blob/main/Homework/Level_4.ipynb\" target=\"_parent\"><img src=\"https://colab.research.google.com/assets/colab-badge.svg\" alt=\"Open In Colab\"/></a>"
      ]
    },
    {
      "cell_type": "code",
      "execution_count": 1,
      "metadata": {
        "colab": {
          "base_uri": "https://localhost:8080/"
        },
        "id": "spEK_begiilt",
        "outputId": "2169ee97-f0fe-4963-b736-3862e4330521"
      },
      "outputs": [
        {
          "output_type": "stream",
          "name": "stdout",
          "text": [
            "Введи ID студента:204\n",
            "ID Студента: 204\n",
            "Имя студента: Игорь\n",
            "ID Школы: 4\n",
            "Название школы: Содружество\n"
          ]
        }
      ],
      "source": [
        "# Задача 4.1\n",
        "# Домашнее задание на SQL\n",
        "\n",
        "# В базе данных teacher создайте таблицу Students\n",
        "\n",
        "# Структура таблицы: Student_Id - Integer, Student_Name - Text, School_Id - Integer (Primary key)\n",
        "\n",
        "# Наполните таблицу следующими данными:\n",
        "\n",
        "# 201, Иван, 1\n",
        "# 202, Петр, 2\n",
        "# 203, Анастасия, 3\n",
        "# 204, Игорь, 4\n",
        "\n",
        "# Напишите программу, с помощью которой по ID студента можно получать информацию о школе и студенте.\n",
        "\n",
        "# Формат вывода:\n",
        "\n",
        "# ID Студента:\n",
        "# Имя студента:\n",
        "# ID школы:\n",
        "# Название школы:\n",
        "\n",
        "\n",
        "import sqlite3 \n",
        "\n",
        "connection = sqlite3.connect('teachers.db') # подключение к базе данных\n",
        "cursor = connection.cursor()\n",
        "sqlquery = \"\"\"CREATE TABLE School ( \n",
        "School_Id INTEGER NOT NULL PRIMARY KEY, \n",
        "School_Name TEXT NOT NULL, \n",
        "Place_Count INTEGER NOT NULL\n",
        "); \"\"\" # задать sql запрос (create - выполняется команда 1 раз, повторно-будет выдавать ошибку)\n",
        "cursor.execute(sqlquery)\n",
        "connection.commit() # обновление БД\n",
        "connection.close() # закрывать соединение с базой данных, после выполнения запросов\n",
        "\n",
        "connection = sqlite3.connect('teachers.db') \n",
        "cursor = connection.cursor()\n",
        "sqlquery = \"\"\"INSERT INTO School (School_Id, School_Name, Place_Count) \n",
        "VALUES \n",
        "('1', 'Протон', 200), \n",
        "('2', 'Преспектива', 300), \n",
        "('3', 'Спектр', 400), \n",
        "('4', 'Содружество', 500); \"\"\" # Insert - выполняется команда 1 раз, повторно-будет выдавать ошибку\n",
        "cursor.execute(sqlquery)\n",
        "connection.commit()\n",
        "connection.close()\n",
        "\n",
        "connection = sqlite3.connect('teachers.db')\n",
        "cursor = connection.cursor()\n",
        "sqlquery = \"\"\"CREATE TABLE Students (\n",
        "Students_Id INTEGER NOT NULL,\n",
        "Students_Name TEXT NOT NULL, \n",
        "School_Id INTEGER NOT NULL PRIMARY KEY\n",
        "); \"\"\" \n",
        "cursor.execute(sqlquery)\n",
        "connection.commit() \n",
        "connection.close() \n",
        "\n",
        "connection = sqlite3.connect('teachers.db') \n",
        "cursor = connection.cursor()\n",
        "sqlquery = \"\"\"INSERT INTO Students (Students_Id, Students_Name, School_Id) \n",
        "VALUES \n",
        "('201', 'Иван', 1), \n",
        "('202', 'Петр', 2), \n",
        "('203', 'Анастасия', 3), \n",
        "('204', 'Игорь', 4); \"\"\" \n",
        "cursor.execute(sqlquery)\n",
        "connection.commit()\n",
        "connection.close()\n",
        "\n",
        "def get_connection():\n",
        "  connection = sqlite3.connect('teachers.db')\n",
        "  return connection\n",
        "\n",
        "def close_connection(connection):\n",
        "  if connection:\n",
        "    connection.close()\n",
        "\n",
        "def get_student(Student_Id):\n",
        "  try:\n",
        "    connection = sqlite3.connect(\"teachers.db\")\n",
        "    cursor = connection.cursor()\n",
        "    query = \"SELECT * FROM Students JOIN School ON School.School_Id = Students.School_Id WHERE Students.Students_id = ?\"\n",
        "    cursor.execute(query,(Student_Id,))\n",
        "    records = cursor.fetchall()\n",
        "    for row in records:\n",
        "      print(\"ID Студента:\", row[0])\n",
        "      print(\"Имя студента:\", row[1])\n",
        "      print(\"ID Школы:\", row[2])\n",
        "      print(\"Название школы:\", row[4])\n",
        "  except (Exception, sqlite3.Error) as error:\n",
        "    print (\"Ошибка в получении данных: \", error)\n",
        "\n",
        "x = int(input(\"Введи ID студента:\"))\n",
        "\n",
        "get_student(x)\n"
      ]
    }
  ]
}